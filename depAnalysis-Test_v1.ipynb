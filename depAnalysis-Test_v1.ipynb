{
 "cells": [
  {
   "cell_type": "code",
   "execution_count": 2,
   "metadata": {},
   "outputs": [],
   "source": [
    "import requests as req\n",
    "import json\n",
    "import numpy as np\n",
    "import pandas as pd\n",
    "from matplotlib import pyplot as plt"
   ]
  },
  {
   "cell_type": "code",
   "execution_count": 34,
   "metadata": {},
   "outputs": [],
   "source": [
    "def redFetch(scrape_type,aggs = False,param={}):\n",
    "    sesh = req.Session()\n",
    "    endpoint = 'comment' if 'comms' else 'submission'\n",
    "    comm_url = 'https://api.pushshift.io/reddit/search/'+endpoint\n",
    "    fetch = sesh.get(url=comm_url,params=param)\n",
    "    prel_data = fetch.json()\n",
    "    if \n",
    "    main_data = pd.DataFrame.from_dict(prel_data['data'])\n",
    "    return (fetch.status_code,main_data)"
   ]
  },
  {
   "cell_type": "code",
   "execution_count": 45,
   "metadata": {},
   "outputs": [],
   "source": [
    "get = redFetch(scrape_type='subs',param={'q':'vaccine','size':250,'sort_type':'score','sort':'desc'})"
   ]
  },
  {
   "cell_type": "code",
   "execution_count": 48,
   "metadata": {},
   "outputs": [
    {
     "data": {
      "text/plain": [
       "Index(['author', 'author_created_utc', 'author_flair_background_color',\n",
       "       'author_flair_css_class', 'author_flair_richtext',\n",
       "       'author_flair_template_id', 'author_flair_text',\n",
       "       'author_flair_text_color', 'author_flair_type', 'author_fullname',\n",
       "       'author_patreon_flair', 'body', 'can_gild', 'collapsed',\n",
       "       'collapsed_reason', 'controversiality', 'created_utc', 'distinguished',\n",
       "       'edited', 'gilded', 'gildings', 'id', 'is_submitter', 'link_id',\n",
       "       'nest_level', 'no_follow', 'parent_id', 'permalink', 'reply_delay',\n",
       "       'retrieved_on', 'score', 'send_replies', 'stickied', 'subreddit',\n",
       "       'subreddit_id', 'subreddit_name_prefixed', 'subreddit_type',\n",
       "       'score_hidden', 'all_awardings', 'associated_award', 'author_premium',\n",
       "       'awarders', 'collapsed_because_crowd_control', 'comment_type', 'locked',\n",
       "       'top_awarded_type', 'total_awards_received', 'treatment_tags',\n",
       "       'updated_utc', 'collapsed_reason_code', 'rte_mode'],\n",
       "      dtype='object')"
      ]
     },
     "execution_count": 48,
     "metadata": {},
     "output_type": "execute_result"
    }
   ],
   "source": [
    "get[1].columns"
   ]
  },
  {
   "cell_type": "code",
   "execution_count": 49,
   "metadata": {},
   "outputs": [
    {
     "data": {
      "text/html": [
       "<div>\n",
       "<style scoped>\n",
       "    .dataframe tbody tr th:only-of-type {\n",
       "        vertical-align: middle;\n",
       "    }\n",
       "\n",
       "    .dataframe tbody tr th {\n",
       "        vertical-align: top;\n",
       "    }\n",
       "\n",
       "    .dataframe thead th {\n",
       "        text-align: right;\n",
       "    }\n",
       "</style>\n",
       "<table border=\"1\" class=\"dataframe\">\n",
       "  <thead>\n",
       "    <tr style=\"text-align: right;\">\n",
       "      <th></th>\n",
       "      <th>author</th>\n",
       "      <th>body</th>\n",
       "      <th>score</th>\n",
       "      <th>score_hidden</th>\n",
       "    </tr>\n",
       "  </thead>\n",
       "  <tbody>\n",
       "    <tr>\n",
       "      <th>0</th>\n",
       "      <td>omgitspeter5</td>\n",
       "      <td>Here’s one:\\n\\nKid comes in after a fall and g...</td>\n",
       "      <td>31487</td>\n",
       "      <td>NaN</td>\n",
       "    </tr>\n",
       "    <tr>\n",
       "      <th>1</th>\n",
       "      <td>needs_more_zoidberg</td>\n",
       "      <td>Standard stuff really. Had a kid on a ventilat...</td>\n",
       "      <td>30832</td>\n",
       "      <td>NaN</td>\n",
       "    </tr>\n",
       "    <tr>\n",
       "      <th>2</th>\n",
       "      <td>blport</td>\n",
       "      <td>I used to donate plasma and was told I have so...</td>\n",
       "      <td>26526</td>\n",
       "      <td>NaN</td>\n",
       "    </tr>\n",
       "    <tr>\n",
       "      <th>3</th>\n",
       "      <td>HadHerses</td>\n",
       "      <td>The vaccine scandal is still massive in China ...</td>\n",
       "      <td>25603</td>\n",
       "      <td>False</td>\n",
       "    </tr>\n",
       "    <tr>\n",
       "      <th>4</th>\n",
       "      <td>__no_chill__</td>\n",
       "      <td>Fucking lmao. Imagine they will bring out the ...</td>\n",
       "      <td>22970</td>\n",
       "      <td>NaN</td>\n",
       "    </tr>\n",
       "    <tr>\n",
       "      <th>...</th>\n",
       "      <td>...</td>\n",
       "      <td>...</td>\n",
       "      <td>...</td>\n",
       "      <td>...</td>\n",
       "    </tr>\n",
       "    <tr>\n",
       "      <th>95</th>\n",
       "      <td>Claidheamhmor</td>\n",
       "      <td>South Africa. Turns out that after initial dis...</td>\n",
       "      <td>7193</td>\n",
       "      <td>NaN</td>\n",
       "    </tr>\n",
       "    <tr>\n",
       "      <th>96</th>\n",
       "      <td>Critical_Aspect</td>\n",
       "      <td>&amp;gt;But I happen to take the vaccine. If it do...</td>\n",
       "      <td>7179</td>\n",
       "      <td>NaN</td>\n",
       "    </tr>\n",
       "    <tr>\n",
       "      <th>97</th>\n",
       "      <td>citizenadvocate09</td>\n",
       "      <td>Bats found on the ground are particularly high...</td>\n",
       "      <td>7126</td>\n",
       "      <td>NaN</td>\n",
       "    </tr>\n",
       "    <tr>\n",
       "      <th>98</th>\n",
       "      <td>probablynotmine</td>\n",
       "      <td>“This rash in the perfect shape of a bandaid i...</td>\n",
       "      <td>7047</td>\n",
       "      <td>NaN</td>\n",
       "    </tr>\n",
       "    <tr>\n",
       "      <th>99</th>\n",
       "      <td>ssldvr</td>\n",
       "      <td>&amp;gt; A coronavirus vaccine developed by the Un...</td>\n",
       "      <td>7029</td>\n",
       "      <td>NaN</td>\n",
       "    </tr>\n",
       "  </tbody>\n",
       "</table>\n",
       "<p>100 rows × 4 columns</p>\n",
       "</div>"
      ],
      "text/plain": [
       "                 author                                               body  \\\n",
       "0          omgitspeter5  Here’s one:\\n\\nKid comes in after a fall and g...   \n",
       "1   needs_more_zoidberg  Standard stuff really. Had a kid on a ventilat...   \n",
       "2                blport  I used to donate plasma and was told I have so...   \n",
       "3             HadHerses  The vaccine scandal is still massive in China ...   \n",
       "4          __no_chill__  Fucking lmao. Imagine they will bring out the ...   \n",
       "..                  ...                                                ...   \n",
       "95        Claidheamhmor  South Africa. Turns out that after initial dis...   \n",
       "96      Critical_Aspect  &gt;But I happen to take the vaccine. If it do...   \n",
       "97    citizenadvocate09  Bats found on the ground are particularly high...   \n",
       "98      probablynotmine  “This rash in the perfect shape of a bandaid i...   \n",
       "99               ssldvr  &gt; A coronavirus vaccine developed by the Un...   \n",
       "\n",
       "    score score_hidden  \n",
       "0   31487          NaN  \n",
       "1   30832          NaN  \n",
       "2   26526          NaN  \n",
       "3   25603        False  \n",
       "4   22970          NaN  \n",
       "..    ...          ...  \n",
       "95   7193          NaN  \n",
       "96   7179          NaN  \n",
       "97   7126          NaN  \n",
       "98   7047          NaN  \n",
       "99   7029          NaN  \n",
       "\n",
       "[100 rows x 4 columns]"
      ]
     },
     "execution_count": 49,
     "metadata": {},
     "output_type": "execute_result"
    }
   ],
   "source": [
    "get[1][['author','body','score','score_hidden']]"
   ]
  },
  {
   "cell_type": "code",
   "execution_count": 59,
   "metadata": {},
   "outputs": [
    {
     "data": {
      "text/plain": [
       "[(<AddressFamily.AF_INET: 2>, 0, 0, '', ('127.0.0.1', 8888)),\n",
       " (<AddressFamily.AF_INET6: 23>, 0, 0, '', ('::1', 8888, 0, 0))]"
      ]
     },
     "execution_count": 59,
     "metadata": {},
     "output_type": "execute_result"
    }
   ],
   "source": [
    "import socket\n",
    "socket.getaddrinfo('localhost', 8888)"
   ]
  },
  {
   "cell_type": "code",
   "execution_count": 67,
   "metadata": {},
   "outputs": [],
   "source": [
    "\n",
    "url2 = 'https://accounts.spotify.com/authorize?client_id=7fda49c5233c42dcb911f55abcfcbbec&response_type=code&redirect_uri=http://localhost:8888/callback'\n",
    "fetch = req.get(url2)"
   ]
  },
  {
   "cell_type": "code",
   "execution_count": 80,
   "metadata": {},
   "outputs": [
    {
     "data": {
      "text/plain": [
       "'\\n<!DOCTYPE html>\\n<html id=\"app\" lang=\"en\" dir=\"ltr\" ng-csp ng-strict-di>\\n<head>\\n  <meta charset=\"utf-8\">\\n  <title ng-bind=\"(&#39;loginTitle&#39; | localize) + &#39; - Spotify&#39;\">Spotify</title>\\n  <meta name=\"viewport\" content=\"width=device-width, initial-scale=1.0, maximum-scale=1.0, user-scalable=no\">\\n  <base href=\"/\">\\n  <link rel=\"icon\" href=\"https://accounts.scdn.co/sso/images/favicon.ace4d8543bbb017893402a1e9d1ac1fa.ico\">\\n  <link href=\"https://accounts.scdn.co/sso/css/index.3cc05b3bdb3046bef4fe.css\" media=\"screen\" rel=\"stylesheet\">\\n\\n  <script defer src=\"https://accounts.scdn.co/sso/js/index.3cc05b3bdb3046bef4fe.js\" sp-bootstrap></script>\\n  <meta ng-non-bindable sp-bootstrap-data=\\'{\"phoneFeatureEnabled\":false,\"previewEnabled\":false,\"user\":false,\"tpaState\":\"AQDAb4BSASVg+YcOa5cP767zyGWwSSklU0Gp6VVmxfFX9bh58igNaEVF/V+jyKsHt8k07w0kthbEdOjm7B48VwHUfUHhdEXnBWuJ7jhkU6+DPtGDnUOH0ERc+iGbL2fgyibL41YcdMoF3x5TEuPjVWePXV+TkHFxigMLJphWH0ZbOzmaSeCPk6kMlsZCtx+S7qw0FxotLzxBs3L8erpEO6MZfSTEQoi/iC3uka7BjZRs6LiTiJ0dDaDy4uyWxEnu3PceMXQ2JBfMdrR+zCal7j/NUjW9I9oOVom5MVltuprmF/Phi/65/8WaTUMPmXl7qpr9sdnsFW27zjTJxKyUTqiCDrfqk6yLFmfXXqcKlN/UUysg+uleqergwOEottsja4+75X5OF4llJHW5V0B7dWQ=\",\"BON\":[\"0\",\"0\",-1176626562]}\\'>\\n</head>\\n<body ng-controller=\"LoginController\">\\n  <div ng-include=\"template\"></div>\\n</body>\\n</html>\\n'"
      ]
     },
     "execution_count": 80,
     "metadata": {},
     "output_type": "execute_result"
    }
   ],
   "source": [
    "fetch.text"
   ]
  }
 ],
 "metadata": {
  "kernelspec": {
   "display_name": "Python 3",
   "language": "python",
   "name": "python3"
  },
  "language_info": {
   "codemirror_mode": {
    "name": "ipython",
    "version": 3
   },
   "file_extension": ".py",
   "mimetype": "text/x-python",
   "name": "python",
   "nbconvert_exporter": "python",
   "pygments_lexer": "ipython3",
   "version": "3.8.5"
  }
 },
 "nbformat": 4,
 "nbformat_minor": 4
}
